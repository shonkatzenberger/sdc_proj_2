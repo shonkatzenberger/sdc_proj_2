{
 "cells": [
  {
   "cell_type": "markdown",
   "metadata": {},
   "source": [
    "# Self-Driving Car Engineer Nanodegree\n",
    "\n",
    "## Deep Learning\n",
    "\n",
    "## Project: Build a Traffic Sign Recognition Classifier\n",
    "\n",
    "In this notebook, a template is provided for you to implement your functionality in stages, which is required to successfully complete this project. If additional code is required that cannot be included in the notebook, be sure that the Python code is successfully imported and included in your submission if necessary. \n",
    "\n",
    "> **Note**: Once you have completed all of the code implementations, you need to finalize your work by exporting the iPython Notebook as an HTML document. Before exporting the notebook to html, all of the code cells need to have been run so that reviewers can see the final implementation and output. You can then export the notebook by using the menu above and navigating to  \\n\",\n",
    "    \"**File -> Download as -> HTML (.html)**. Include the finished document along with this notebook as your submission. \n",
    "\n",
    "In addition to implementing code, there is a writeup to complete. The writeup should be completed in a separate file, which can be either a markdown file or a pdf document. There is a [write up template](https://github.com/udacity/CarND-Traffic-Sign-Classifier-Project/blob/master/writeup_template.md) that can be used to guide the writing process. Completing the code template and writeup template will cover all of the [rubric points](https://review.udacity.com/#!/rubrics/481/view) for this project.\n",
    "\n",
    "The [rubric](https://review.udacity.com/#!/rubrics/481/view) contains \"Stand Out Suggestions\" for enhancing the project beyond the minimum requirements. The stand out suggestions are optional. If you decide to pursue the \"stand out suggestions\", you can include the code in this Ipython notebook and also discuss the results in the writeup file.\n",
    "\n",
    "\n",
    ">**Note:** Code and Markdown cells can be executed using the **Shift + Enter** keyboard shortcut. In addition, Markdown cells can be edited by typically double-clicking the cell to enter edit mode."
   ]
  },
  {
   "cell_type": "markdown",
   "metadata": {},
   "source": [
    "---\n",
    "## Step 0: Load The Data"
   ]
  },
  {
   "cell_type": "code",
   "execution_count": 1,
   "metadata": {},
   "outputs": [],
   "source": [
    "# Load pickled data\n",
    "import pickle\n",
    "\n",
    "training_file = 'F:/sdc/Data/traffic-signs-data/train.p'\n",
    "validation_file='F:/sdc/Data/traffic-signs-data/valid.p'\n",
    "testing_file =  'F:/sdc/Data/traffic-signs-data/test.p'\n",
    "\n",
    "with open(training_file, mode='rb') as f:\n",
    "    train = pickle.load(f)\n",
    "with open(validation_file, mode='rb') as f:\n",
    "    valid = pickle.load(f)\n",
    "with open(testing_file, mode='rb') as f:\n",
    "    test = pickle.load(f)\n",
    "    \n",
    "X_train, y_train = train['features'], train['labels']\n",
    "X_valid, y_valid = valid['features'], valid['labels']\n",
    "X_test, y_test = test['features'], test['labels']"
   ]
  },
  {
   "cell_type": "markdown",
   "metadata": {},
   "source": [
    "---\n",
    "\n",
    "## Step 1: Dataset Summary & Exploration\n",
    "\n",
    "The pickled data is a dictionary with 4 key/value pairs:\n",
    "\n",
    "- `'features'` is a 4D array containing raw pixel data of the traffic sign images, (num examples, width, height, channels).\n",
    "- `'labels'` is a 1D array containing the label/class id of the traffic sign. The file `signnames.csv` contains id -> name mappings for each id.\n",
    "- `'sizes'` is a list containing tuples, (width, height) representing the original width and height the image.\n",
    "- `'coords'` is a list containing tuples, (x1, y1, x2, y2) representing coordinates of a bounding box around the sign in the image. **THESE COORDINATES ASSUME THE ORIGINAL IMAGE. THE PICKLED DATA CONTAINS RESIZED VERSIONS (32 by 32) OF THESE IMAGES**\n",
    "\n",
    "Complete the basic data summary below. Use python, numpy and/or pandas methods to calculate the data summary rather than hard coding the results. For example, the [pandas shape method](http://pandas.pydata.org/pandas-docs/stable/generated/pandas.DataFrame.shape.html) might be useful for calculating some of the summary results. "
   ]
  },
  {
   "cell_type": "markdown",
   "metadata": {},
   "source": [
    "### Provide a Basic Summary of the Data Set Using Python, Numpy and/or Pandas"
   ]
  },
  {
   "cell_type": "code",
   "execution_count": 2,
   "metadata": {},
   "outputs": [
    {
     "name": "stdout",
     "output_type": "stream",
     "text": [
      "Number of training examples = 34799\n",
      "Number of validation examples = 4410\n",
      "Number of testing examples = 12630\n",
      "Image data shape = (32, 32, 3)\n",
      "Number of classes = 43\n"
     ]
    }
   ],
   "source": [
    "### Replace each question mark with the appropriate value. \n",
    "### Use python, pandas or numpy methods rather than hard coding the results\n",
    "\n",
    "import numpy as np\n",
    "\n",
    "n_train = y_train.shape[0]\n",
    "n_valid = y_valid.shape[0]\n",
    "n_test = y_test.shape[0]\n",
    "\n",
    "image_shape = X_train.shape[1:]\n",
    "\n",
    "# Number of classes/labels. This assumes the labels are integers starting at zero, with no gaps.\n",
    "n_classes = np.amax(y_train) + 1\n",
    "\n",
    "print(\"Number of training examples =\", n_train)\n",
    "print(\"Number of validation examples =\", n_valid)\n",
    "print(\"Number of testing examples =\", n_test)\n",
    "print(\"Image data shape =\", image_shape)\n",
    "print(\"Number of classes =\", n_classes)"
   ]
  },
  {
   "cell_type": "markdown",
   "metadata": {},
   "source": [
    "### Include an exploratory visualization of the dataset"
   ]
  },
  {
   "cell_type": "markdown",
   "metadata": {},
   "source": [
    "Visualize the German Traffic Signs Dataset using the pickled file(s). This is open ended, suggestions include: plotting traffic sign images, plotting the count of each sign, etc. \n",
    "\n",
    "The [Matplotlib](http://matplotlib.org/) [examples](http://matplotlib.org/examples/index.html) and [gallery](http://matplotlib.org/gallery.html) pages are a great resource for doing visualizations in Python.\n",
    "\n",
    "**NOTE:** It's recommended you start with something simple first. If you wish to do more, come back to it after you've completed the rest of the sections. It can be interesting to look at the distribution of classes in the training, validation and test set. Is the distribution the same? Are there more examples of some classes than others?"
   ]
  },
  {
   "cell_type": "code",
   "execution_count": 12,
   "metadata": {},
   "outputs": [
    {
     "name": "stdout",
     "output_type": "stream",
     "text": [
      "8712 : 11\n"
     ]
    },
    {
     "data": {
      "image/png": "[encoded data removed]",
      "text/plain": [
       "<matplotlib.figure.Figure at 0x1a314189b70>"
      ]
     },
     "metadata": {},
     "output_type": "display_data"
    }
   ],
   "source": [
    "### Data exploration visualization code goes here.\n",
    "### Feel free to use as many code cells as needed.\n",
    "import matplotlib.pyplot as plt\n",
    "# Visualizations will be shown in the notebook.\n",
    "%matplotlib inline\n",
    "\n",
    "import random\n",
    "\n",
    "index = random.randint(0, len(X_train))\n",
    "image = X_train[index].squeeze()\n",
    "\n",
    "plt.figure(figsize=(1,1))\n",
    "plt.imshow(image)\n",
    "print(index, \":\", y_train[index])\n"
   ]
  },
  {
   "cell_type": "code",
   "execution_count": 27,
   "metadata": {},
   "outputs": [
    {
     "name": "stdout",
     "output_type": "stream",
     "text": [
      "Histogram of training labels\n",
      "(43,)\n",
      "[  180.  1980.  2010.  1260.  1770.  1650.   360.  1290.  1260.  1320.\n",
      "  1800.  1170.  1890.  1920.   690.   540.   360.   990.  1080.   180.\n",
      "   300.   270.   330.   450.   240.  1350.   540.   210.   480.   240.\n",
      "   390.   690.   210.   599.   360.  1080.   330.   180.  1860.   270.\n",
      "   300.   210.   210.]\n"
     ]
    },
    {
     "data": {
      "image/png": "[encoded data removed]",
      "text/plain": [
       "<matplotlib.figure.Figure at 0x1a3146b39e8>"
      ]
     },
     "metadata": {},
     "output_type": "display_data"
    }
   ],
   "source": [
    "print(\"Histogram of training labels\")\n",
    "n, bins, patches = plt.hist(y_train, bins=tuple(range(n_classes + 1)))\n",
    "print(n.shape)\n",
    "print(n)"
   ]
  },
  {
   "cell_type": "code",
   "execution_count": 28,
   "metadata": {},
   "outputs": [
    {
     "name": "stdout",
     "output_type": "stream",
     "text": [
      "Histogram of validation labels\n",
      "(43,)\n",
      "[  30.  240.  240.  150.  210.  210.   60.  150.  150.  150.  210.  150.\n",
      "  210.  240.   90.   90.   60.  120.  120.   30.   60.   60.   60.   60.\n",
      "   30.  150.   60.   30.   60.   30.   60.   90.   30.   90.   60.  120.\n",
      "   60.   30.  210.   30.   60.   30.   30.]\n"
     ]
    },
    {
     "data": {
      "image/png": "[encoded data removed]",
      "text/plain": [
       "<matplotlib.figure.Figure at 0x1a32262d278>"
      ]
     },
     "metadata": {},
     "output_type": "display_data"
    }
   ],
   "source": [
    "print(\"Histogram of validation labels\")\n",
    "n, bins, patches = plt.hist(y_valid, bins=tuple(range(n_classes + 1)))\n",
    "print(n.shape)\n",
    "print(n)"
   ]
  },
  {
   "cell_type": "code",
   "execution_count": 29,
   "metadata": {},
   "outputs": [
    {
     "name": "stdout",
     "output_type": "stream",
     "text": [
      "Histogram of testing labels\n",
      "(43,)\n",
      "[  60.  720.  750.  450.  660.  630.  150.  450.  450.  480.  660.  420.\n",
      "  690.  720.  270.  210.  150.  360.  390.   60.   90.   90.  120.  150.\n",
      "   90.  480.  180.   60.  150.   90.  150.  270.   60.  210.  120.  390.\n",
      "  120.   60.  690.   90.   90.   60.   90.]\n"
     ]
    },
    {
     "data": {
      "image/png": "[encoded data removed]",
      "text/plain": [
       "<matplotlib.figure.Figure at 0x19fbf81dcc0>"
      ]
     },
     "metadata": {},
     "output_type": "display_data"
    }
   ],
   "source": [
    "print(\"Histogram of testing labels\")\n",
    "n, bins, patches = plt.hist(y_test, bins=tuple(range(n_classes + 1)))\n",
    "print(n.shape)\n",
    "print(n)"
   ]
  },
  {
   "cell_type": "markdown",
   "metadata": {},
   "source": [
    "----\n",
    "\n",
    "## Step 2: Design and Test a Model Architecture\n",
    "\n",
    "Design and implement a deep learning model that learns to recognize traffic signs. Train and test your model on the [German Traffic Sign Dataset](http://benchmark.ini.rub.de/?section=gtsrb&subsection=dataset).\n",
    "\n",
    "The LeNet-5 implementation shown in the [classroom](https://classroom.udacity.com/nanodegrees/nd013/parts/fbf77062-5703-404e-b60c-95b78b2f3f9e/modules/6df7ae49-c61c-4bb2-a23e-6527e69209ec/lessons/601ae704-1035-4287-8b11-e2c2716217ad/concepts/d4aca031-508f-4e0b-b493-e7b706120f81) at the end of the CNN lesson is a solid starting point. You'll have to change the number of classes and possibly the preprocessing, but aside from that it's plug and play! \n",
    "\n",
    "With the LeNet-5 solution from the lecture, you should expect a validation set accuracy of about 0.89. To meet specifications, the validation set accuracy will need to be at least 0.93. It is possible to get an even higher accuracy, but 0.93 is the minimum for a successful project submission. \n",
    "\n",
    "There are various aspects to consider when thinking about this problem:\n",
    "\n",
    "- Neural network architecture (is the network over or underfitting?)\n",
    "- Play around preprocessing techniques (normalization, rgb to grayscale, etc)\n",
    "- Number of examples per label (some have more than others).\n",
    "- Generate fake data.\n",
    "\n",
    "Here is an example of a [published baseline model on this problem](http://yann.lecun.com/exdb/publis/pdf/sermanet-ijcnn-11.pdf). It's not required to be familiar with the approach used in the paper but, it's good practice to try to read papers like these."
   ]
  },
  {
   "cell_type": "markdown",
   "metadata": {},
   "source": [
    "### Pre-process the Data Set (normalization, grayscale, etc.)"
   ]
  },
  {
   "cell_type": "markdown",
   "metadata": {},
   "source": [
    "Minimally, the image data should be normalized so that the data has mean zero and equal variance. For image data, `(pixel - 128)/ 128` is a quick way to approximately normalize the data and can be used in this project. \n",
    "\n",
    "Other pre-processing steps are optional. You can try different techniques to see if it improves performance. \n",
    "\n",
    "Use the code cell (or multiple code cells, if necessary) to implement the first step of your project."
   ]
  },
  {
   "cell_type": "code",
   "execution_count": 31,
   "metadata": {},
   "outputs": [],
   "source": [
    "### Preprocess the data here. It is required to normalize the data. Other preprocessing steps could include \n",
    "### converting to grayscale, etc.\n",
    "### Feel free to use as many code cells as needed.\n",
    "\n",
    "import cv2\n",
    "\n",
    "# We keep it simple and just subtract 128 and divide by 128, to map between -1 and +1.\n",
    "# Note that this makes 'pad' pixels (all zeros) medium gray.\n",
    "def _normImages(images):\n",
    "    assert images.dtype == np.uint8\n",
    "    res = np.empty_like(images, dtype=np.float32)\n",
    "    np.subtract(images, 128.0, out=res)\n",
    "    np.divide(res, 128.0, out=res)\n",
    "    return res\n",
    "\n",
    "featuresTrain = _normImages(X_train)\n",
    "featuresValid = _normImages(X_valid)\n",
    "featuresTest = _normImages(X_test)\n"
   ]
  },
  {
   "cell_type": "markdown",
   "metadata": {},
   "source": [
    "### Model Architecture"
   ]
  },
  {
   "cell_type": "code",
   "execution_count": 32,
   "metadata": {},
   "outputs": [],
   "source": [
    "# Import tensorflow and the flatten method.\n",
    "\n",
    "import tensorflow as tf\n",
    "\n",
    "from tensorflow.contrib.layers import flatten\n"
   ]
  },
  {
   "cell_type": "code",
   "execution_count": 37,
   "metadata": {},
   "outputs": [],
   "source": [
    "def BuildDnn(x, kr1, kr2, kr3, rand, dump=False):\n",
    "    \"\"\" Builds a dnn for sign recognition.\n",
    "\n",
    "    The 'x' parameter should be a placeholder for the input features.\n",
    "    The 'kr1', 'kr2', and 'kr3' parameters should be placeholders for the dropout keep-rates.\n",
    "    kr1 is for the fully connected layers, kr2 is for the last convolutional layer, and kr3\n",
    "    is for the first convolution, that is, it is the keep rate applied to input features\n",
    "    (normalized pixels).\n",
    "    \"\"\"\n",
    "\n",
    "    # This deviates from LeNet is a few significant ways: it uses 3x3 convolutions, not 5x5;\n",
    "    # it has more convolutional layers; it uses padding.\n",
    "\n",
    "    # Note that the factoring into nested helper functions makes it easy to experiment\n",
    "    # with different topologies.\n",
    "\n",
    "    # Mean and standard deviation for weight initialization.\n",
    "    mu = 0\n",
    "    sigma = 0.1\n",
    "\n",
    "    def _Conv(inp, count, size=3):\n",
    "        \"\"\" Apply a convolution, with the given filter count and size. Uses padding. \"\"\"\n",
    "        seed = rand.randint(0x80000000)\n",
    "        if dump:\n",
    "            print(\"Seed: {}\".format(seed))\n",
    "        wts = tf.Variable(\n",
    "            tf.truncated_normal(\n",
    "                shape=(size, size, inp.shape[-1].value, count),\n",
    "                mean=mu, stddev=sigma, seed=seed))\n",
    "        bias = tf.Variable(tf.zeros(shape=(count,)))\n",
    "        return tf.nn.bias_add(tf.nn.convolution(input=inp, filter=wts, padding='SAME'), bias)\n",
    "\n",
    "    def _Full(inp, count):\n",
    "        \"\"\" Apply a fully connected layer, with the given count of cells. \"\"\"\n",
    "        seed = rand.randint(0x80000000)\n",
    "        if dump:\n",
    "            print(\"Seed: {}\".format(seed))\n",
    "        wts = tf.Variable(\n",
    "            tf.truncated_normal(\n",
    "                shape=(inp.shape[-1].value, count),\n",
    "                mean=mu, stddev=sigma, seed=seed))\n",
    "        bias = tf.Variable(tf.zeros(shape=(count,)))\n",
    "        return tf.nn.bias_add(tf.matmul(inp, wts), bias)\n",
    "\n",
    "    def _DropOut(inp, k):\n",
    "        \"\"\" Apply dropout with the given keep rate. \"\"\"\n",
    "        seed = rand.randint(0x80000000)\n",
    "        if dump:\n",
    "            print(\"Seed: {}\".format(seed))\n",
    "\n",
    "        # REVIEW shonk: I'd like to set noise_shape so we either keep or drop an entire 'channel'\n",
    "        # (all 'pixels' lose the same channels). Unfortunately, noise_shape doesn't appear to play\n",
    "        # well with an unknown batch size! This is a pretty significant flaw in tensorflow. The\n",
    "        # simplest work around seem to be to specify the batch size in the graph, but I don't want\n",
    "        # to do that - it would make dealing with the final 'partial' batch a pain.\n",
    "\n",
    "        shape = inp.shape\n",
    "        assert len(shape) >= 2\n",
    "\n",
    "        if len(shape) > 2 and False:\n",
    "            # This fails, as described above, when shape[0] is None, hence the 'and False'.\n",
    "            shape = tf.TensorShape((shape[0],) + (1,) * (len(shape) - 2) + (shape[-1],))\n",
    "        else:\n",
    "            shape = None\n",
    "\n",
    "        return tf.nn.dropout(inp, k, noise_shape=shape, seed=seed)\n",
    "\n",
    "    def _Act(inp):\n",
    "        \"\"\" Apply the activation function. We just use relu. \"\"\"\n",
    "        return tf.nn.relu(inp)\n",
    "\n",
    "    def _Pool(inp, size, stride=None):\n",
    "        \"\"\" Apply max pooling with the given size and stride. When stride is None, it is assumed\n",
    "        to be the same as size.\n",
    "        \"\"\"\n",
    "        if stride is None:\n",
    "            stride = size\n",
    "        return tf.nn.max_pool(inp, ksize=(1, size, size, 1), strides=(1, stride, stride, 1), padding='SAME')\n",
    "\n",
    "    def _Dump(inp):\n",
    "        \"\"\" Dump useful information, if 'dump' is True. \"\"\"\n",
    "        if dump:\n",
    "            print(\"Shape: {}\".format(inp.shape))\n",
    "\n",
    "    # This uses a number of 3x3 convolutions, with 2x2 max pooling after each, then finishes\n",
    "    # with a couple fully-connected layers.\n",
    "\n",
    "    cur = x\n",
    "    _Dump(cur)\n",
    "\n",
    "    # Convolution and pool.\n",
    "    cur = _DropOut(cur, kr3)\n",
    "    cur = _Conv(cur, 16)\n",
    "    cur = _Act(cur)\n",
    "    cur = _Pool(cur, 2)\n",
    "    _Dump(cur)\n",
    "\n",
    "    # Convolution and pool.\n",
    "    cur = _Conv(cur, 32)\n",
    "    cur = _Act(cur)\n",
    "    cur = _Pool(cur, 2)\n",
    "    _Dump(cur)\n",
    "\n",
    "    # Convolution and pool.\n",
    "    cur = _DropOut(cur, kr2)\n",
    "    cur = _Conv(cur, 64)\n",
    "    cur = _Act(cur)\n",
    "    cur = _Pool(cur, 2)\n",
    "    _Dump(cur)\n",
    "\n",
    "    # Flatten for the fully connected layers.\n",
    "    cur = flatten(cur)\n",
    "    _Dump(cur)\n",
    "\n",
    "    # Fully connected.\n",
    "    cur = _DropOut(cur, kr1)\n",
    "    cur = _Full(cur, 256)\n",
    "    cur = _Act(cur)\n",
    "    _Dump(cur)\n",
    "\n",
    "    # Final fully connected, with no activation, since softmax will be\n",
    "    # integrated with cross-entropy.\n",
    "    cur = _DropOut(cur, kr1)\n",
    "    cur = _Full(cur, 43)\n",
    "    _Dump(cur)\n",
    "\n",
    "    return cur\n"
   ]
  },
  {
   "cell_type": "markdown",
   "metadata": {},
   "source": [
    "### Train, Validate and Test the Model"
   ]
  },
  {
   "cell_type": "markdown",
   "metadata": {},
   "source": [
    "A validation set can be used to assess how well the model is performing. A low accuracy on the training and validation\n",
    "sets imply underfitting. A high accuracy on the training set but low accuracy on the validation set implies overfitting."
   ]
  },
  {
   "cell_type": "code",
   "execution_count": 41,
   "metadata": {},
   "outputs": [],
   "source": [
    "# Initialize the random number generator. This is so the results are reproducible.\n",
    "rand = np.random.RandomState(42)\n",
    "\n",
    "# Build the graph. We use the convention that graph nodes, both tensors and non-tensors,\n",
    "# start with g_.\n",
    "\n",
    "# Learning rate and dropout keep rate placeholders.\n",
    "g_lr = tf.placeholder(tf.float32, ())\n",
    "g_kr1 = tf.placeholder(tf.float32, ())\n",
    "g_kr2 = tf.placeholder(tf.float32, ())\n",
    "g_kr3 = tf.placeholder(tf.float32, ())\n",
    "\n",
    "# Input placeholders (features and labels)\n",
    "g_x = tf.placeholder(tf.float32, (None, 32, 32, 3))\n",
    "g_y = tf.placeholder(tf.int32, (None,))\n",
    "\n",
    "# One-hot label indicators.\n",
    "g_yInd = tf.one_hot(g_y, 43)\n",
    "\n",
    "# Build the DNN graph.\n",
    "g_logits = BuildDnn(g_x, g_kr1, g_kr2, g_kr3, rand, dump=False)\n",
    "\n",
    "# For reporting statistics.\n",
    "g_correct = tf.equal(tf.argmax(g_logits, axis=1, output_type=tf.int32), g_y)\n",
    "g_correct_sum = tf.reduce_sum(tf.cast(g_correct, tf.int32))\n",
    "\n",
    "# Apply softmax and cross entropy.\n",
    "g_ce = tf.nn.softmax_cross_entropy_with_logits(labels=g_yInd, logits=g_logits)\n",
    "\n",
    "# We'll use the loss-sum when reporting statistics, and the loss-mean when training.\n",
    "g_loss_sum = tf.reduce_sum(g_ce)\n",
    "g_loss_mean = tf.reduce_mean(g_ce)\n",
    "\n",
    "# Use Adam with the place-holder learning rate.\n",
    "g_optimizer = tf.train.AdamOptimizer(learning_rate=g_lr)\n",
    "g_train_step = g_optimizer.minimize(g_loss_mean)\n"
   ]
  },
  {
   "cell_type": "code",
   "execution_count": 42,
   "metadata": {},
   "outputs": [],
   "source": [
    "import time\n",
    "\n",
    "def _eval(sess, xsAll, ysAll, batchSize=100):\n",
    "    \"\"\" Computes the average accuracy and loss. \"\"\"\n",
    "    assert batchSize > 0\n",
    "    assert xsAll.shape[0] == ysAll.shape[0]\n",
    "    num = xsAll.shape[0]\n",
    "\n",
    "    acc_sum = 0\n",
    "    loss_sum = 0.0\n",
    "    for ii in range(0, num, batchSize):\n",
    "        xs = xsAll[ii : ii + batchSize]\n",
    "        ys = ysAll[ii : ii + batchSize]\n",
    "        acc, loss = sess.run(\n",
    "            (g_correct_sum, g_loss_sum),\n",
    "            feed_dict={\n",
    "                g_x: xs, g_y: ys,\n",
    "                g_kr1: 1.0, g_kr2: 1.0, g_kr3: 1.0\n",
    "            })\n",
    "        acc_sum += acc\n",
    "        loss_sum += loss\n",
    "    return acc_sum / num, loss_sum / num\n",
    "\n",
    "def _train(sess, xsAll, ysAll, rand, rate, kr1, kr2, kr3, batchSize=100):\n",
    "    \"\"\" Performs one training epoch. \"\"\"\n",
    "    assert batchSize > 0\n",
    "    assert xsAll.shape[0] == ysAll.shape[0]\n",
    "    num = xsAll.shape[0]\n",
    "\n",
    "    # Generate a random permutation.\n",
    "    indices = rand.permutation(num)\n",
    "    for ii in range(0, num, batchSize):\n",
    "        inds = indices[ii : ii + batchSize]\n",
    "        xs = xsAll[inds]\n",
    "        ys = ysAll[inds]\n",
    "        sess.run(\n",
    "            g_train_step,\n",
    "            feed_dict={\n",
    "                g_x: xs, g_y: ys, g_lr: rate,\n",
    "                g_kr1: kr1, g_kr2: kr2, g_kr3: kr3\n",
    "            })\n",
    "\n",
    "def _trainMulti(sess, epochs, xsAll, ysAll, rand, rate, kr1, kr2, kr3, batchSize=100):\n",
    "    \"\"\" Performs multiple epochs, and reports statistics after each. \"\"\"\n",
    "    assert epochs > 0\n",
    "\n",
    "    print(\"*** Starting {} epochs with learning rate: {}\".format(epochs, rate))\n",
    "    for i in range(epochs):\n",
    "        t0 = time.time()\n",
    "        _train(sess, featuresTrain, y_train, rand, rate, kr1, kr2, kr3, batchSize)\n",
    "        t1 = time.time()\n",
    "        print(\"  Epoch {} took: {:.04f} sec\".format(i, t1 - t0))\n",
    "\n",
    "        acc, loss = _eval(sess, featuresTrain, y_train, batchSize)\n",
    "        print(\"    Training   accuracy and loss: {:.03f}, {:.03f}\".format(acc, loss))\n",
    "        acc, loss = _eval(sess, featuresValid, y_valid, batchSize)\n",
    "        print(\"    Validation accuracy and loss: {:.03f}, {:.03f}\".format(acc, loss))\n"
   ]
  },
  {
   "cell_type": "code",
   "execution_count": 43,
   "metadata": {},
   "outputs": [
    {
     "name": "stdout",
     "output_type": "stream",
     "text": [
      "Training   accuracy and loss before: 0.027, 3.943\n",
      "Validation accuracy and loss before: 0.021, 3.954\n",
      "*** Starting 10 epochs with learning rate: 0.001\n",
      "  Epoch 0 took: 2.3322 sec\n",
      "    Training   accuracy and loss: 0.700, 1.045\n",
      "    Validation accuracy and loss: 0.585, 1.366\n",
      "  Epoch 1 took: 2.3162 sec\n",
      "    Training   accuracy and loss: 0.911, 0.354\n",
      "    Validation accuracy and loss: 0.811, 0.642\n",
      "  Epoch 2 took: 2.3242 sec\n",
      "    Training   accuracy and loss: 0.965, 0.148\n",
      "    Validation accuracy and loss: 0.885, 0.373\n",
      "  Epoch 3 took: 2.3262 sec\n",
      "    Training   accuracy and loss: 0.985, 0.081\n",
      "    Validation accuracy and loss: 0.917, 0.327\n",
      "  Epoch 4 took: 2.3201 sec\n",
      "    Training   accuracy and loss: 0.989, 0.053\n",
      "    Validation accuracy and loss: 0.934, 0.236\n",
      "  Epoch 5 took: 2.3232 sec\n",
      "    Training   accuracy and loss: 0.994, 0.036\n",
      "    Validation accuracy and loss: 0.932, 0.287\n",
      "  Epoch 6 took: 2.3081 sec\n",
      "    Training   accuracy and loss: 0.996, 0.028\n",
      "    Validation accuracy and loss: 0.941, 0.258\n",
      "  Epoch 7 took: 2.3151 sec\n",
      "    Training   accuracy and loss: 0.997, 0.018\n",
      "    Validation accuracy and loss: 0.940, 0.250\n",
      "  Epoch 8 took: 2.3041 sec\n",
      "    Training   accuracy and loss: 0.998, 0.018\n",
      "    Validation accuracy and loss: 0.945, 0.224\n",
      "  Epoch 9 took: 2.3051 sec\n",
      "    Training   accuracy and loss: 0.997, 0.013\n",
      "    Validation accuracy and loss: 0.953, 0.218\n",
      "*** Starting 5 epochs with learning rate: 0.0003\n",
      "  Epoch 0 took: 2.3111 sec\n",
      "    Training   accuracy and loss: 0.999, 0.008\n",
      "    Validation accuracy and loss: 0.958, 0.185\n",
      "  Epoch 1 took: 2.3221 sec\n",
      "    Training   accuracy and loss: 0.999, 0.007\n",
      "    Validation accuracy and loss: 0.956, 0.196\n",
      "  Epoch 2 took: 2.3212 sec\n",
      "    Training   accuracy and loss: 0.999, 0.006\n",
      "    Validation accuracy and loss: 0.957, 0.202\n",
      "  Epoch 3 took: 2.3352 sec\n",
      "    Training   accuracy and loss: 0.999, 0.006\n",
      "    Validation accuracy and loss: 0.961, 0.166\n",
      "  Epoch 4 took: 2.3121 sec\n",
      "    Training   accuracy and loss: 0.999, 0.004\n",
      "    Validation accuracy and loss: 0.954, 0.214\n",
      "*** Starting 5 epochs with learning rate: 0.0001\n",
      "  Epoch 0 took: 2.3151 sec\n",
      "    Training   accuracy and loss: 1.000, 0.004\n",
      "    Validation accuracy and loss: 0.960, 0.197\n",
      "  Epoch 1 took: 2.3051 sec\n",
      "    Training   accuracy and loss: 1.000, 0.004\n",
      "    Validation accuracy and loss: 0.960, 0.189\n",
      "  Epoch 2 took: 2.3161 sec\n",
      "    Training   accuracy and loss: 1.000, 0.003\n",
      "    Validation accuracy and loss: 0.961, 0.182\n",
      "  Epoch 3 took: 2.3061 sec\n",
      "    Training   accuracy and loss: 1.000, 0.003\n",
      "    Validation accuracy and loss: 0.963, 0.184\n",
      "  Epoch 4 took: 2.2935 sec\n",
      "    Training   accuracy and loss: 1.000, 0.003\n",
      "    Validation accuracy and loss: 0.963, 0.176\n",
      "*** Starting 5 epochs with learning rate: 3e-05\n",
      "  Epoch 0 took: 2.3132 sec\n",
      "    Training   accuracy and loss: 1.000, 0.003\n",
      "    Validation accuracy and loss: 0.960, 0.187\n",
      "  Epoch 1 took: 2.3071 sec\n",
      "    Training   accuracy and loss: 1.000, 0.003\n",
      "    Validation accuracy and loss: 0.961, 0.187\n",
      "  Epoch 2 took: 2.3121 sec\n",
      "    Training   accuracy and loss: 1.000, 0.003\n",
      "    Validation accuracy and loss: 0.963, 0.178\n",
      "  Epoch 3 took: 2.3171 sec\n",
      "    Training   accuracy and loss: 1.000, 0.003\n",
      "    Validation accuracy and loss: 0.963, 0.185\n",
      "  Epoch 4 took: 2.3132 sec\n",
      "    Training   accuracy and loss: 1.000, 0.003\n",
      "    Validation accuracy and loss: 0.964, 0.188\n"
     ]
    }
   ],
   "source": [
    "with tf.Session() as sess:\n",
    "    sess.run(tf.global_variables_initializer())\n",
    "\n",
    "    batchSize = 100\n",
    "\n",
    "    # Report the initial statistics (before any epochs). Generally, the accuracy is expected\n",
    "    # to be around 1 / n, where n is the number of classes.\n",
    "    acc, loss = _eval(sess, featuresTrain, y_train, batchSize)\n",
    "    print(\"Training   accuracy and loss before: {:.03f}, {:.03f}\".format(acc, loss))\n",
    "    acc, loss = _eval(sess, featuresValid, y_valid, batchSize)\n",
    "    print(\"Validation accuracy and loss before: {:.03f}, {:.03f}\".format(acc, loss))\n",
    "\n",
    "    # These dropout keep rates seem to do the best. Note that kr3 = 1.00 means\n",
    "    # we're disabling dropout on the input features.\n",
    "    kr1 = 0.70\n",
    "    kr2 = 0.85\n",
    "    kr3 = 1.00\n",
    "\n",
    "    # Note that the dropout keep rates stay the same, but we decrease the learning rate.\n",
    "    _trainMulti(sess, 10, featuresTrain, y_train, rand, rate=0.00100, kr1=kr1, kr2=kr2, kr3=kr3, batchSize=batchSize)\n",
    "    _trainMulti(sess,  5, featuresTrain, y_train, rand, rate=0.00030, kr1=kr1, kr2=kr2, kr3=kr3, batchSize=batchSize)\n",
    "    _trainMulti(sess,  5, featuresTrain, y_train, rand, rate=0.00010, kr1=kr1, kr2=kr2, kr3=kr3, batchSize=batchSize)\n",
    "    _trainMulti(sess,  5, featuresTrain, y_train, rand, rate=0.00003, kr1=kr1, kr2=kr2, kr3=kr3, batchSize=batchSize)\n"
   ]
  },
  {
   "cell_type": "markdown",
   "metadata": {},
   "source": [
    "---\n",
    "\n",
    "## Step 3: Test a Model on New Images\n",
    "\n",
    "To give yourself more insight into how your model is working, download at least five pictures of German traffic signs from the web and use your model to predict the traffic sign type.\n",
    "\n",
    "You may find `signnames.csv` useful as it contains mappings from the class id (integer) to the actual sign name."
   ]
  },
  {
   "cell_type": "markdown",
   "metadata": {},
   "source": [
    "### Load and Output the Images"
   ]
  },
  {
   "cell_type": "code",
   "execution_count": null,
   "metadata": {},
   "outputs": [],
   "source": [
    "### Load the images and plot them here.\n",
    "### Feel free to use as many code cells as needed."
   ]
  },
  {
   "cell_type": "markdown",
   "metadata": {},
   "source": [
    "### Predict the Sign Type for Each Image"
   ]
  },
  {
   "cell_type": "code",
   "execution_count": null,
   "metadata": {},
   "outputs": [],
   "source": [
    "### Run the predictions here and use the model to output the prediction for each image.\n",
    "### Make sure to pre-process the images with the same pre-processing pipeline used earlier.\n",
    "### Feel free to use as many code cells as needed."
   ]
  },
  {
   "cell_type": "markdown",
   "metadata": {},
   "source": [
    "### Analyze Performance"
   ]
  },
  {
   "cell_type": "code",
   "execution_count": null,
   "metadata": {},
   "outputs": [],
   "source": [
    "### Calculate the accuracy for these 5 new images. \n",
    "### For example, if the model predicted 1 out of 5 signs correctly, it's 20% accurate on these new images."
   ]
  },
  {
   "cell_type": "markdown",
   "metadata": {},
   "source": [
    "### Output Top 5 Softmax Probabilities For Each Image Found on the Web"
   ]
  },
  {
   "cell_type": "markdown",
   "metadata": {},
   "source": [
    "For each of the new images, print out the model's softmax probabilities to show the **certainty** of the model's predictions (limit the output to the top 5 probabilities for each image). [`tf.nn.top_k`](https://www.tensorflow.org/versions/r0.12/api_docs/python/nn.html#top_k) could prove helpful here. \n",
    "\n",
    "The example below demonstrates how tf.nn.top_k can be used to find the top k predictions for each image.\n",
    "\n",
    "`tf.nn.top_k` will return the values and indices (class ids) of the top k predictions. So if k=3, for each sign, it'll return the 3 largest probabilities (out of a possible 43) and the correspoding class ids.\n",
    "\n",
    "Take this numpy array as an example. The values in the array represent predictions. The array contains softmax probabilities for five candidate images with six possible classes. `tf.nn.top_k` is used to choose the three classes with the highest probability:\n",
    "\n",
    "```\n",
    "# (5, 6) array\n",
    "a = np.array([[ 0.24879643,  0.07032244,  0.12641572,  0.34763842,  0.07893497,\n",
    "         0.12789202],\n",
    "       [ 0.28086119,  0.27569815,  0.08594638,  0.0178669 ,  0.18063401,\n",
    "         0.15899337],\n",
    "       [ 0.26076848,  0.23664738,  0.08020603,  0.07001922,  0.1134371 ,\n",
    "         0.23892179],\n",
    "       [ 0.11943333,  0.29198961,  0.02605103,  0.26234032,  0.1351348 ,\n",
    "         0.16505091],\n",
    "       [ 0.09561176,  0.34396535,  0.0643941 ,  0.16240774,  0.24206137,\n",
    "         0.09155967]])\n",
    "```\n",
    "\n",
    "Running it through `sess.run(tf.nn.top_k(tf.constant(a), k=3))` produces:\n",
    "\n",
    "```\n",
    "TopKV2(values=array([[ 0.34763842,  0.24879643,  0.12789202],\n",
    "       [ 0.28086119,  0.27569815,  0.18063401],\n",
    "       [ 0.26076848,  0.23892179,  0.23664738],\n",
    "       [ 0.29198961,  0.26234032,  0.16505091],\n",
    "       [ 0.34396535,  0.24206137,  0.16240774]]), indices=array([[3, 0, 5],\n",
    "       [0, 1, 4],\n",
    "       [0, 5, 1],\n",
    "       [1, 3, 5],\n",
    "       [1, 4, 3]], dtype=int32))\n",
    "```\n",
    "\n",
    "Looking just at the first row we get `[ 0.34763842,  0.24879643,  0.12789202]`, you can confirm these are the 3 largest probabilities in `a`. You'll also notice `[3, 0, 5]` are the corresponding indices."
   ]
  },
  {
   "cell_type": "code",
   "execution_count": null,
   "metadata": {},
   "outputs": [],
   "source": [
    "### Print out the top five softmax probabilities for the predictions on the German traffic sign images found on the web. \n",
    "### Feel free to use as many code cells as needed."
   ]
  },
  {
   "cell_type": "markdown",
   "metadata": {},
   "source": [
    "### Project Writeup\n",
    "\n",
    "Once you have completed the code implementation, document your results in a project writeup using this [template](https://github.com/udacity/CarND-Traffic-Sign-Classifier-Project/blob/master/writeup_template.md) as a guide. The writeup can be in a markdown or pdf file. "
   ]
  },
  {
   "cell_type": "markdown",
   "metadata": {},
   "source": [
    "> **Note**: Once you have completed all of the code implementations and successfully answered each question above, you may finalize your work by exporting the iPython Notebook as an HTML document. You can do this by using the menu above and navigating to  \\n\",\n",
    "    \"**File -> Download as -> HTML (.html)**. Include the finished document along with this notebook as your submission."
   ]
  },
  {
   "cell_type": "markdown",
   "metadata": {},
   "source": [
    "---\n",
    "\n",
    "## Step 4 (Optional): Visualize the Neural Network's State with Test Images\n",
    "\n",
    " This Section is not required to complete but acts as an additional excersise for understaning the output of a neural network's weights. While neural networks can be a great learning device they are often referred to as a black box. We can understand what the weights of a neural network look like better by plotting their feature maps. After successfully training your neural network you can see what it's feature maps look like by plotting the output of the network's weight layers in response to a test stimuli image. From these plotted feature maps, it's possible to see what characteristics of an image the network finds interesting. For a sign, maybe the inner network feature maps react with high activation to the sign's boundary outline or to the contrast in the sign's painted symbol.\n",
    "\n",
    " Provided for you below is the function code that allows you to get the visualization output of any tensorflow weight layer you want. The inputs to the function should be a stimuli image, one used during training or a new one you provided, and then the tensorflow variable name that represents the layer's state during the training process, for instance if you wanted to see what the [LeNet lab's](https://classroom.udacity.com/nanodegrees/nd013/parts/fbf77062-5703-404e-b60c-95b78b2f3f9e/modules/6df7ae49-c61c-4bb2-a23e-6527e69209ec/lessons/601ae704-1035-4287-8b11-e2c2716217ad/concepts/d4aca031-508f-4e0b-b493-e7b706120f81) feature maps looked like for it's second convolutional layer you could enter conv2 as the tf_activation variable.\n",
    "\n",
    "For an example of what feature map outputs look like, check out NVIDIA's results in their paper [End-to-End Deep Learning for Self-Driving Cars](https://devblogs.nvidia.com/parallelforall/deep-learning-self-driving-cars/) in the section Visualization of internal CNN State. NVIDIA was able to show that their network's inner weights had high activations to road boundary lines by comparing feature maps from an image with a clear path to one without. Try experimenting with a similar test to show that your trained network's weights are looking for interesting features, whether it's looking at differences in feature maps from images with or without a sign, or even what feature maps look like in a trained network vs a completely untrained one on the same sign image.\n",
    "\n",
    "<figure>\n",
    " <img src=\"visualize_cnn.png\" width=\"380\" alt=\"Combined Image\" />\n",
    " <figcaption>\n",
    " <p></p> \n",
    " <p style=\"text-align: center;\"> Your output should look something like this (above)</p> \n",
    " </figcaption>\n",
    "</figure>\n",
    " <p></p> \n"
   ]
  },
  {
   "cell_type": "code",
   "execution_count": null,
   "metadata": {},
   "outputs": [],
   "source": [
    "### Visualize your network's feature maps here.\n",
    "### Feel free to use as many code cells as needed.\n",
    "\n",
    "# image_input: the test image being fed into the network to produce the feature maps\n",
    "# tf_activation: should be a tf variable name used during your training procedure that represents the calculated state of a specific weight layer\n",
    "# activation_min/max: can be used to view the activation contrast in more detail, by default matplot sets min and max to the actual min and max values of the output\n",
    "# plt_num: used to plot out multiple different weight feature map sets on the same block, just extend the plt number for each new feature map entry\n",
    "\n",
    "def outputFeatureMap(image_input, tf_activation, activation_min=-1, activation_max=-1 ,plt_num=1):\n",
    "    # Here make sure to preprocess your image_input in a way your network expects\n",
    "    # with size, normalization, ect if needed\n",
    "    # image_input =\n",
    "    # Note: x should be the same name as your network's tensorflow data placeholder variable\n",
    "    # If you get an error tf_activation is not defined it may be having trouble accessing the variable from inside a function\n",
    "    activation = tf_activation.eval(session=sess,feed_dict={x : image_input})\n",
    "    featuremaps = activation.shape[3]\n",
    "    plt.figure(plt_num, figsize=(15,15))\n",
    "    for featuremap in range(featuremaps):\n",
    "        plt.subplot(6,8, featuremap+1) # sets the number of feature maps to show on each row and column\n",
    "        plt.title('FeatureMap ' + str(featuremap)) # displays the feature map number\n",
    "        if activation_min != -1 & activation_max != -1:\n",
    "            plt.imshow(activation[0,:,:, featuremap], interpolation=\"nearest\", vmin =activation_min, vmax=activation_max, cmap=\"gray\")\n",
    "        elif activation_max != -1:\n",
    "            plt.imshow(activation[0,:,:, featuremap], interpolation=\"nearest\", vmax=activation_max, cmap=\"gray\")\n",
    "        elif activation_min !=-1:\n",
    "            plt.imshow(activation[0,:,:, featuremap], interpolation=\"nearest\", vmin=activation_min, cmap=\"gray\")\n",
    "        else:\n",
    "            plt.imshow(activation[0,:,:, featuremap], interpolation=\"nearest\", cmap=\"gray\")"
   ]
  }
 ],
 "metadata": {
  "anaconda-cloud": {},
  "kernelspec": {
   "display_name": "Python 3",
   "language": "python",
   "name": "python3"
  },
  "language_info": {
   "codemirror_mode": {
    "name": "ipython",
    "version": 3
   },
   "file_extension": ".py",
   "mimetype": "text/x-python",
   "name": "python",
   "nbconvert_exporter": "python",
   "pygments_lexer": "ipython3",
   "version": "3.5.2"
  },
  "widgets": {
   "state": {},
   "version": "1.1.2"
  }
 },
 "nbformat": 4,
 "nbformat_minor": 1
}
